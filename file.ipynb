{
 "cells": [
  {
   "cell_type": "code",
   "execution_count": 32,
   "metadata": {},
   "outputs": [],
   "source": [
    "import dwave"
   ]
  },
  {
   "cell_type": "code",
   "execution_count": 33,
   "metadata": {},
   "outputs": [
    {
     "name": "stdout",
     "output_type": "stream",
     "text": [
      "D-Wave Cloud Client, version 0.13.1\n"
     ]
    }
   ],
   "source": [
    "!dwave --version"
   ]
  },
  {
   "cell_type": "code",
   "execution_count": 34,
   "metadata": {},
   "outputs": [
    {
     "name": "stderr",
     "output_type": "stream",
     "text": [
      "Usage: dwave auth login [OPTIONS]\n",
      "Try 'dwave auth login --help' for help.\n",
      "\n",
      "Error: Got unexpected extra arguments (# To login into the dwave leap account)\n"
     ]
    }
   ],
   "source": [
    "!dwave auth login # To login into the dwave leap account"
   ]
  },
  {
   "cell_type": "code",
   "execution_count": 35,
   "metadata": {},
   "outputs": [
    {
     "name": "stdout",
     "output_type": "stream",
     "text": [
      "Usage: dwave auth login [OPTIONS]\n",
      "\n",
      "  Authorize Ocean to access Leap API on user's behalf.\n",
      "\n",
      "Options:\n",
      "  -p, --profile TEXT      Connection profile (section) name\n",
      "  -f, --config-file FILE  Configuration file path\n",
      "  --oob                   Run OAuth 2.0 Authorization Code flow out-of-band,\n",
      "                          without the use of locally hosted redirect URL.\n",
      "  --skip-valid            Skip authorization if access token is valid, or it\n",
      "                          can be refreshed.\n",
      "  --help                  Show this message and exit.\n"
     ]
    }
   ],
   "source": [
    "!dwave auth login --help\n"
   ]
  },
  {
   "cell_type": "code",
   "execution_count": 36,
   "metadata": {},
   "outputs": [
    {
     "name": "stdout",
     "output_type": "stream",
     "text": [
      "^C\n"
     ]
    }
   ],
   "source": [
    "!dwave auth login --oob"
   ]
  },
  {
   "cell_type": "code",
   "execution_count": 37,
   "metadata": {},
   "outputs": [
    {
     "name": "stdout",
     "output_type": "stream",
     "text": [
      "Usage: dwave config [OPTIONS] COMMAND [ARGS]...\n",
      "\n",
      "  Create, update or inspect cloud client configuration file(s).\n",
      "\n",
      "Options:\n",
      "  --help  Show this message and exit.\n",
      "\n",
      "Commands:\n",
      "  create   Create or update cloud client configuration file.\n",
      "  inspect  Inspect existing configuration/profile.\n",
      "  ls       List configuration files detected (and/or examined paths).\n"
     ]
    }
   ],
   "source": [
    "!dwave config --help"
   ]
  },
  {
   "cell_type": "markdown",
   "metadata": {},
   "source": [
    "!dwave config --create in cmd conda activate dwavee -- using example (DW kjnkjnfkjnfakfnanfnaklfnkdfnksdfakl APItoken sav it )"
   ]
  },
  {
   "cell_type": "code",
   "execution_count": 39,
   "metadata": {},
   "outputs": [
    {
     "name": "stdout",
     "output_type": "stream",
     "text": [
      "Usage: dwave ping [OPTIONS]\n",
      "\n",
      "  Ping the QPU by submitting a single-qubit problem.\n",
      "\n",
      "Options:\n",
      "  -p, --profile TEXT             Connection profile (section) name\n",
      "  -f, --config-file FILE         Configuration file path\n",
      "  --region CODE                  Solver API region [default: from config]\n",
      "  --endpoint URL                 Solver API endpoint [default: from config]\n",
      "  -s, --solver TEXT              Feature-based solver filter [default: from\n",
      "                                 config]\n",
      "  --client [base|qpu|sw|hybrid]  Client type used [default: from config]\n",
      "  -m, --sampling-params TEXT     Sampling parameters (JSON encoded)\n",
      "  --request-timeout FLOAT        Connection and read timeouts (in seconds) for\n",
      "                                 all API requests\n",
      "  --polling-timeout FLOAT        Problem polling timeout in seconds (time-to-\n",
      "                                 solution timeout)\n",
      "  --label TEXT                   Problem label  [default: dwave ping]\n",
      "  --json                         JSON output\n",
      "  --help                         Show this message and exit.\n"
     ]
    }
   ],
   "source": [
    "!dwave ping --help"
   ]
  },
  {
   "cell_type": "code",
   "execution_count": 40,
   "metadata": {},
   "outputs": [
    {
     "name": "stdout",
     "output_type": "stream",
     "text": [
      "Using endpoint: https://cloud.dwavesys.com/sapi/\n",
      "Using region: na-west-1\n",
      "Using solver: Advantage_system4.1\n",
      "Submitted problem ID: 4911d08f-4f18-46b4-87ab-20fdbd701b6f\n",
      "\n",
      "Wall clock time:\n",
      " * Solver definition fetch: 2838.182 ms\n",
      " * Problem submit and results fetch: 4813.487 ms\n",
      " * Total: 7651.669 ms\n",
      "\n",
      "QPU timing:\n",
      " * post_processing_overhead_time = 1.0 us\n",
      " * qpu_access_overhead_time = 177.46 us\n",
      " * qpu_access_time = 15858.54 us\n",
      " * qpu_anneal_time_per_sample = 20.0 us\n",
      " * qpu_delay_time_per_sample = 20.58 us\n",
      " * qpu_programming_time = 15781.56 us\n",
      " * qpu_readout_time_per_sample = 36.4 us\n",
      " * qpu_sampling_time = 76.98 us\n",
      " * total_post_processing_time = 1.0 us\n"
     ]
    }
   ],
   "source": [
    "!dwave ping --client qpu"
   ]
  },
  {
   "cell_type": "code",
   "execution_count": 41,
   "metadata": {},
   "outputs": [],
   "source": [
    "import sys\n",
    "sys.path.append('C:\\Shubh\\maximum_cut.py')"
   ]
  },
  {
   "cell_type": "code",
   "execution_count": 43,
   "metadata": {},
   "outputs": [
    {
     "name": "stdout",
     "output_type": "stream",
     "text": [
      "------------------------------------------------------------\n",
      "          Set 0          Set 1    Energy        Cut Size    \n",
      "------------------------------------------------------------\n",
      "      [2, 3, 5]         [1, 4]     -4.0             5       \n",
      "         [2, 3]      [1, 4, 5]     -4.0             5       \n",
      "         [1, 4]      [2, 3, 5]     -4.0             5       \n",
      "\n",
      "Your plot is saved to maxcut_plot_ising.png\n"
     ]
    }
   ],
   "source": [
    "import maximum_cut_ising"
   ]
  },
  {
   "cell_type": "code",
   "execution_count": 51,
   "metadata": {},
   "outputs": [],
   "source": [
    "import maximum_cut "
   ]
  },
  {
   "cell_type": "code",
   "execution_count": null,
   "metadata": {},
   "outputs": [],
   "source": []
  }
 ],
 "metadata": {
  "kernelspec": {
   "display_name": "env_dwavee",
   "language": "python",
   "name": "python3"
  },
  "language_info": {
   "codemirror_mode": {
    "name": "ipython",
    "version": 3
   },
   "file_extension": ".py",
   "mimetype": "text/x-python",
   "name": "python",
   "nbconvert_exporter": "python",
   "pygments_lexer": "ipython3",
   "version": "3.11.9"
  }
 },
 "nbformat": 4,
 "nbformat_minor": 2
}
